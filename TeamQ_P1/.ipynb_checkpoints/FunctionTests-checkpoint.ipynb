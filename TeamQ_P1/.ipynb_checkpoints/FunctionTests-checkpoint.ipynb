{
 "cells": [
  {
   "cell_type": "code",
   "execution_count": 1,
   "metadata": {
    "collapsed": true
   },
   "outputs": [],
   "source": [
    "import os\n",
    "import re"
   ]
  },
  {
   "cell_type": "code",
   "execution_count": 2,
   "metadata": {
    "collapsed": true
   },
   "outputs": [],
   "source": [
    "def load_files(dir):                                                                                                  \n",
    "    print(\"Loading Files\")\n",
    "    r = []                                                                                                            \n",
    "    subdirs = [x[0] for x in os.walk(dir)]                                                                            \n",
    "    for subdir in subdirs:                                                                                            \n",
    "        files = os.walk(subdir).__next__()[2]                                                                             \n",
    "        if (len(files) > 0):                                                                                          \n",
    "            for file in files:                                                                                        \n",
    "                r.append(subdir + \"/\" + file)                                                                         \n",
    "    return r"
   ]
  },
  {
   "cell_type": "code",
   "execution_count": 3,
   "metadata": {
    "collapsed": false,
    "scrolled": true
   },
   "outputs": [
    {
     "name": "stdout",
     "output_type": "stream",
     "text": [
      "Loading Files\n",
      "['Notes/BUY-POST-IT-NOTES.txt', 'Notes/D1SchoolsTop5Sports.txt', 'Notes/exceldata5.txt', 'Notes/git_commands.txt', 'Notes/growingBasil.txt', 'Notes/How-To-Use-A-Screwdriver.txt', 'Notes/Long-URL-Test.txt', 'Notes/MobyDick.txt', 'Notes/pages79-84.txt', 'Notes/sconeRecipe.txt', 'Notes/starwars9script.txt', 'Notes/stepByStepGuide-lightingCandles.txt', 'Notes/sushi-cookbook.txt', 'Notes/The-Popes-Tweets.txt', 'Notes/_DonaldDuck.txt'] 15\n"
     ]
    }
   ],
   "source": [
    "files = load_files('Notes') #calling function to read through root folder and sub folder\n",
    "print(files,len(files))"
   ]
  },
  {
   "cell_type": "code",
   "execution_count": 4,
   "metadata": {
    "collapsed": false,
    "scrolled": true
   },
   "outputs": [
    {
     "name": "stdout",
     "output_type": "stream",
     "text": [
      "Hey @coolCat go buy some post-it notes\n",
      "#postItNotes\n"
     ]
    }
   ],
   "source": [
    "file = open(files[0])\n",
    "print(file.read())"
   ]
  },
  {
   "cell_type": "code",
   "execution_count": 100,
   "metadata": {
    "collapsed": false
   },
   "outputs": [],
   "source": [
    "def sort_notes(files,path):\n",
    "    used_id = []\n",
    "    print(\"Sorting Notes\")\n",
    "    all_files=[]\n",
    "    for f in range(len(files)):\n",
    "        #name = \"file\" + str(f)\n",
    "        file = open(files[f])\n",
    "        file_str = file.read()\n",
    "        file.close()\n",
    "        #print(files[f])\n",
    "        marks = re.findall(r'\\B[@#!^]\\w+', file_str)\n",
    "        urls = re.findall(r'(?:[a-zA-Z0-9]+(?:-[a-zA-Z0-9]+)*\\.)+[-a-zA-Z@:%_\\+~#?&//=]{2,256}',file_str)\n",
    "     \n",
    "        #print(marks,urls)\n",
    "        \n",
    "        file_marks = {'name':files[f][len(path)+1:],'@':[],'#':[],'!':[],'^':[],'url':[]}\n",
    "        for m in marks:\n",
    "            x = m in used_id\n",
    "            if (len(m) != 0 and x == False:\n",
    "                file_marks[m[0]].append(m)\n",
    "            if m[0] == \"!\":\n",
    "                    used_id.append(m)\n",
    "        for u in urls:\n",
    "            file_marks['url'].append(u)\n",
    "        all_files.append(file_marks)\n",
    "    return all_files"
   ]
  },
  {
   "cell_type": "code",
   "execution_count": 9,
   "metadata": {
    "collapsed": false
   },
   "outputs": [],
   "source": [
    "def sort_by_mark(dicts, mark):\n",
    "    files = []\n",
    "    for d in dicts:\n",
    "        print(d[mark])\n",
    "        if (len(d[mark]) !=0):\n",
    "            sort = {'name':d['name'], 'marks':d[mark]}\n",
    "            files.append(sort)\n",
    "        \n",
    "    return files"
   ]
  },
  {
   "cell_type": "code",
   "execution_count": 24,
   "metadata": {
    "collapsed": true
   },
   "outputs": [],
   "source": [
    "def sort_by_note(dicts,name):\n",
    "    for d in dicts:\n",
    "        if name in d['name']:\n",
    "            return d['name']\n",
    "    else:\n",
    "        return \"file not found\""
   ]
  },
  {
   "cell_type": "code",
   "execution_count": 101,
   "metadata": {
    "collapsed": false
   },
   "outputs": [
    {
     "name": "stdout",
     "output_type": "stream",
     "text": [
      "Enter your filepath: Notes\n",
      "Loading Files\n",
      "Sorting Notes\n",
      "False\n",
      "False\n",
      "False\n",
      "False\n",
      "False\n",
      "False\n",
      "False\n",
      "False\n",
      "False\n",
      "False\n",
      "False\n",
      "False\n",
      "False\n",
      "False\n",
      "True\n",
      "True\n",
      "False\n",
      "True\n",
      "False\n",
      "False\n",
      "False\n",
      "False\n",
      "False\n",
      "False\n",
      "False\n",
      "False\n",
      "False\n",
      "False\n",
      "False\n",
      "False\n",
      "False\n",
      "False\n",
      "False\n",
      "False\n",
      "False\n",
      "False\n",
      "False\n",
      "False\n",
      "True\n",
      "Notes Sorted\n"
     ]
    }
   ],
   "source": [
    "filepath = input('Enter your filepath: ')\n",
    "files = load_files(filepath)\n",
    "dicts = sort_notes(files,filepath)\n",
    "print(\"Notes Sorted\")\n",
    "\n"
   ]
  },
  {
   "cell_type": "code",
   "execution_count": 102,
   "metadata": {
    "collapsed": false
   },
   "outputs": [
    {
     "data": {
      "text/plain": [
       "{'!': [],\n",
       " '#': ['#Ramblers', '#sports'],\n",
       " '@': ['@LU'],\n",
       " '^': [],\n",
       " 'name': 'D1SchoolsTop5Sports.txt',\n",
       " 'url': []}"
      ]
     },
     "execution_count": 102,
     "metadata": {},
     "output_type": "execute_result"
    }
   ],
   "source": [
    "dicts[1]"
   ]
  },
  {
   "cell_type": "code",
   "execution_count": 63,
   "metadata": {
    "collapsed": false
   },
   "outputs": [
    {
     "name": "stdout",
     "output_type": "stream",
     "text": [
      "Notes/BUY-POST-IT-NOTES.txt\n",
      "Notes/D1SchoolsTop5Sports.txt\n",
      "Notes/exceldata5.txt\n",
      "Notes/git_commands.txt\n",
      "Notes/growingBasil.txt\n",
      "Notes/How-To-Use-A-Screwdriver.txt\n",
      "Notes/Long-URL-Test.txt\n",
      "Notes/MobyDick.txt\n",
      "Notes/pages79-84.txt\n",
      "Notes/sconeRecipe.txt\n",
      "Notes/starwars9script.txt\n",
      "Notes/stepByStepGuide-lightingCandles.txt\n",
      "Notes/sushi-cookbook.txt\n",
      "Notes/The-Popes-Tweets.txt\n",
      "Notes/_DonaldDuck.txt\n"
     ]
    }
   ],
   "source": [
    "for f in files:\n",
    "    print(f)"
   ]
  },
  {
   "cell_type": "code",
   "execution_count": 103,
   "metadata": {
    "collapsed": false
   },
   "outputs": [
    {
     "name": "stdout",
     "output_type": "stream",
     "text": [
      "[]\n",
      "[]\n",
      "[]\n",
      "['!git']\n",
      "[]\n",
      "[]\n",
      "[]\n",
      "[]\n",
      "[]\n",
      "[]\n",
      "['!yoda']\n",
      "[]\n",
      "[]\n",
      "['!yoda', '!git', '!donald', '!git']\n",
      "[]\n",
      "['!donald']\n"
     ]
    }
   ],
   "source": [
    "test = sort_by_mark(dicts,'!')"
   ]
  },
  {
   "cell_type": "code",
   "execution_count": 70,
   "metadata": {
    "collapsed": false
   },
   "outputs": [],
   "source": [
    "def file_names(files,path):\n",
    "    names = []\n",
    "    for f in files:\n",
    "        f = f[len(filepath)+1:]\n",
    "        names.append(f)\n",
    "    return names"
   ]
  },
  {
   "cell_type": "code",
   "execution_count": 71,
   "metadata": {
    "collapsed": false
   },
   "outputs": [],
   "source": [
    "names = file_names(files,filepath)"
   ]
  },
  {
   "cell_type": "code",
   "execution_count": 78,
   "metadata": {
    "collapsed": false
   },
   "outputs": [
    {
     "data": {
      "text/plain": [
       "['BUY-POST-IT-NOTES.txt',\n",
       " 'D1SchoolsTop5Sports.txt',\n",
       " 'exceldata5.txt',\n",
       " 'git_commands.txt',\n",
       " 'growingBasil.txt',\n",
       " 'How-To-Use-A-Screwdriver.txt',\n",
       " 'Long-URL-Test.txt',\n",
       " 'MobyDick.txt',\n",
       " 'pages79-84.txt',\n",
       " 'sconeRecipe.txt',\n",
       " 'starwars9script.txt',\n",
       " 'stepByStepGuide-lightingCandles.txt',\n",
       " 'sushi-cookbook.txt',\n",
       " 'The-Popes-Tweets.txt',\n",
       " '_DonaldDuck.txt']"
      ]
     },
     "execution_count": 78,
     "metadata": {},
     "output_type": "execute_result"
    }
   ],
   "source": [
    "names"
   ]
  },
  {
   "cell_type": "code",
   "execution_count": null,
   "metadata": {
    "collapsed": true
   },
   "outputs": [],
   "source": []
  }
 ],
 "metadata": {
  "kernelspec": {
   "display_name": "Python 3",
   "language": "python",
   "name": "python3"
  },
  "language_info": {
   "codemirror_mode": {
    "name": "ipython",
    "version": 3
   },
   "file_extension": ".py",
   "mimetype": "text/x-python",
   "name": "python",
   "nbconvert_exporter": "python",
   "pygments_lexer": "ipython3",
   "version": "3.6.0"
  }
 },
 "nbformat": 4,
 "nbformat_minor": 2
}
