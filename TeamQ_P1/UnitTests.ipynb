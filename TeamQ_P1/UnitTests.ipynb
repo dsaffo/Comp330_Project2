{
 "cells": [
  {
   "cell_type": "markdown",
   "metadata": {},
   "source": [
    "# Notebook for unit testing"
   ]
  },
  {
   "cell_type": "code",
   "execution_count": 8,
   "metadata": {
    "collapsed": true
   },
   "outputs": [],
   "source": [
    "import note_functions as nf\n",
    "import unittest as ut"
   ]
  },
  {
   "cell_type": "code",
   "execution_count": 9,
   "metadata": {
    "collapsed": false
   },
   "outputs": [],
   "source": [
    "files = nf.new_load_files('Notes')"
   ]
  },
  {
   "cell_type": "code",
   "execution_count": 3,
   "metadata": {
    "collapsed": false
   },
   "outputs": [
    {
     "data": {
      "text/plain": [
       "['Notes\\\\!test.txt',\n",
       " 'Notes\\\\BUY-POST-IT-NOTES.txt',\n",
       " 'Notes\\\\CookBook.txt',\n",
       " 'Notes\\\\D1SchoolsTop5Sports.txt',\n",
       " 'Notes\\\\exceldata5.txt',\n",
       " 'Notes\\\\git_commands.txt',\n",
       " 'Notes\\\\growingBasil.txt',\n",
       " 'Notes\\\\How-To-Use-A-Screwdriver.txt',\n",
       " 'Notes\\\\Long-URL-Test.txt',\n",
       " 'Notes\\\\MobyDick.txt',\n",
       " 'Notes\\\\pages79-84.txt',\n",
       " 'Notes\\\\sconeRecipe.txt',\n",
       " 'Notes\\\\starwars9script.txt',\n",
       " 'Notes\\\\stepByStepGuide-lightingCandles.txt',\n",
       " 'Notes\\\\sushi-cookbook.txt',\n",
       " 'Notes\\\\Test-IDs.txt',\n",
       " 'Notes\\\\test1.txt',\n",
       " 'Notes\\\\test2.txt',\n",
       " 'Notes\\\\test3.txt',\n",
       " 'Notes\\\\The-Popes-Tweets.txt',\n",
       " 'Notes\\\\topo.txt',\n",
       " 'Notes\\\\topo1.txt',\n",
       " 'Notes\\\\topo2.txt',\n",
       " 'Notes\\\\topo3.txt',\n",
       " 'Notes\\\\zDoesTOPOsortwork.txt',\n",
       " 'Notes\\\\_DonaldDuck.txt']"
      ]
     },
     "execution_count": 3,
     "metadata": {},
     "output_type": "execute_result"
    }
   ],
   "source": [
    "files"
   ]
  },
  {
   "cell_type": "code",
   "execution_count": 4,
   "metadata": {
    "collapsed": false
   },
   "outputs": [
    {
     "name": "stdout",
     "output_type": "stream",
     "text": [
      "Sorting Notes\n"
     ]
    }
   ],
   "source": [
    "dicts = nf.sort_notes(files, 'Notes')"
   ]
  },
  {
   "cell_type": "code",
   "execution_count": 5,
   "metadata": {
    "collapsed": false,
    "scrolled": true
   },
   "outputs": [
    {
     "data": {
      "text/plain": [
       "[{'!': ['!test'], '#': [], '@': [], '^': [], 'name': '!test.txt', 'url': []},\n",
       " {'!': [],\n",
       "  '#': ['#postItNotes'],\n",
       "  '@': ['@coolCat'],\n",
       "  '^': [],\n",
       "  'name': 'BUY-POST-IT-NOTES.txt',\n",
       "  'url': []},\n",
       " {'!': ['!recipe'],\n",
       "  '#': [],\n",
       "  '@': [],\n",
       "  '^': [],\n",
       "  'name': 'CookBook.txt',\n",
       "  'url': []},\n",
       " {'!': [],\n",
       "  '#': ['#Ramblers', '#sports'],\n",
       "  '@': ['@LU'],\n",
       "  '^': [],\n",
       "  'name': 'D1SchoolsTop5Sports.txt',\n",
       "  'url': []},\n",
       " {'!': [],\n",
       "  '#': [],\n",
       "  '@': [],\n",
       "  '^': [],\n",
       "  'name': 'exceldata5.txt',\n",
       "  'url': ['fbi.org']},\n",
       " {'!': ['!git'],\n",
       "  '#': [],\n",
       "  '@': [],\n",
       "  '^': [],\n",
       "  'name': 'git_commands.txt',\n",
       "  'url': ['domain.com',\n",
       "   'domain.com',\n",
       "   'github.com:user/test',\n",
       "   'domain.com',\n",
       "   'domain.com',\n",
       "   'www.siteground.com']},\n",
       " {'!': [],\n",
       "  '#': ['#sports'],\n",
       "  '@': [],\n",
       "  '^': [],\n",
       "  'name': 'growingBasil.txt',\n",
       "  'url': []},\n",
       " {'!': [],\n",
       "  '#': ['#howTo'],\n",
       "  '@': [],\n",
       "  '^': [],\n",
       "  'name': 'How-To-Use-A-Screwdriver.txt',\n",
       "  'url': []},\n",
       " {'!': [],\n",
       "  '#': [],\n",
       "  '@': [],\n",
       "  '^': [],\n",
       "  'name': 'Long-URL-Test.txt',\n",
       "  'url': ['drive.google.com/drive/my-drive']},\n",
       " {'!': [],\n",
       "  '#': ['#theWhale'],\n",
       "  '@': [],\n",
       "  '^': [],\n",
       "  'name': 'MobyDick.txt',\n",
       "  'url': []},\n",
       " {'!': [], '#': [], '@': [], '^': [], 'name': 'pages79-84.txt', 'url': []},\n",
       " {'!': [],\n",
       "  '#': [],\n",
       "  '@': [],\n",
       "  '^': ['^recipe'],\n",
       "  'name': 'sconeRecipe.txt',\n",
       "  'url': []},\n",
       " {'!': ['!yoda'],\n",
       "  '#': [],\n",
       "  '@': [],\n",
       "  '^': [],\n",
       "  'name': 'starwars9script.txt',\n",
       "  'url': ['www.starwarsnine.net']},\n",
       " {'!': [],\n",
       "  '#': ['#howTo'],\n",
       "  '@': ['@coolCat'],\n",
       "  '^': [],\n",
       "  'name': 'stepByStepGuide-lightingCandles.txt',\n",
       "  'url': []},\n",
       " {'!': [],\n",
       "  '#': [],\n",
       "  '@': [],\n",
       "  '^': ['^recipe'],\n",
       "  'name': 'sushi-cookbook.txt',\n",
       "  'url': []},\n",
       " {'!': [], '#': [], '@': [], '^': [], 'name': 'Test-IDs.txt', 'url': []},\n",
       " {'!': [], '#': [], '@': [], '^': ['^test'], 'name': 'test1.txt', 'url': []},\n",
       " {'!': [], '#': [], '@': [], '^': ['^test'], 'name': 'test2.txt', 'url': []},\n",
       " {'!': [], '#': [], '@': [], '^': ['^test'], 'name': 'test3.txt', 'url': []},\n",
       " {'!': [],\n",
       "  '#': [],\n",
       "  '@': ['@Pontifex',\n",
       "   '@Pontifex',\n",
       "   '@Pontifex',\n",
       "   '@Pontifex',\n",
       "   '@Pontifex',\n",
       "   '@Pontifex',\n",
       "   '@Pontifex',\n",
       "   '@Pontifex',\n",
       "   '@Pontifex',\n",
       "   '@Pontifex',\n",
       "   '@Pontifex',\n",
       "   '@Pontifex',\n",
       "   '@Pontifex',\n",
       "   '@Pontifex',\n",
       "   '@Pontifex',\n",
       "   '@Pontifex',\n",
       "   '@Pontifex',\n",
       "   '@Pontifex',\n",
       "   '@Pontifex',\n",
       "   '@Pontifex'],\n",
       "  '^': [],\n",
       "  'name': 'The-Popes-Tweets.txt',\n",
       "  'url': []},\n",
       " {'!': [],\n",
       "  '#': [],\n",
       "  '@': [],\n",
       "  '^': ['^toposort'],\n",
       "  'name': 'topo.txt',\n",
       "  'url': []},\n",
       " {'!': [],\n",
       "  '#': [],\n",
       "  '@': [],\n",
       "  '^': ['^toposort'],\n",
       "  'name': 'topo1.txt',\n",
       "  'url': []},\n",
       " {'!': [],\n",
       "  '#': [],\n",
       "  '@': [],\n",
       "  '^': ['^toposort'],\n",
       "  'name': 'topo2.txt',\n",
       "  'url': []},\n",
       " {'!': [],\n",
       "  '#': [],\n",
       "  '@': [],\n",
       "  '^': ['^toposort'],\n",
       "  'name': 'topo3.txt',\n",
       "  'url': []},\n",
       " {'!': ['!toposort'],\n",
       "  '#': [],\n",
       "  '@': [],\n",
       "  '^': [],\n",
       "  'name': 'zDoesTOPOsortwork.txt',\n",
       "  'url': []},\n",
       " {'!': ['!donald'],\n",
       "  '#': [],\n",
       "  '@': [],\n",
       "  '^': [],\n",
       "  'name': '_DonaldDuck.txt',\n",
       "  'url': []}]"
      ]
     },
     "execution_count": 5,
     "metadata": {},
     "output_type": "execute_result"
    }
   ],
   "source": [
    "dicts"
   ]
  },
  {
   "cell_type": "markdown",
   "metadata": {},
   "source": [
    "### Unit Tests for those files posted in basecamp"
   ]
  },
  {
   "cell_type": "code",
   "execution_count": 10,
   "metadata": {
    "collapsed": false
   },
   "outputs": [],
   "source": [
    "class TestStringMethods(ut.TestCase):\n",
    "\n",
    "    def test_DonaldDuck(self):\n",
    "        note = nf.sort_by_note(dicts, '_DonaldDuck.txt')\n",
    "        self.assertEqual(len(note['@']), 0)\n",
    "        self.assertEqual(len(note['#']), 0)\n",
    "        self.assertEqual(len(note['!']), 1)\n",
    "        self.assertEqual(len(note['^']), 0)\n",
    "        self.assertEqual(len(note['url']), 0)\n",
    "        \n",
    "    def test_postitnotes(self):\n",
    "        note = nf.sort_by_note(dicts, 'BUY-POST-IT-NOTES.txt')\n",
    "        self.assertEqual(len(note['@']), 1)\n",
    "        self.assertEqual(len(note['#']), 1)\n",
    "        self.assertEqual(len(note['!']), 0)\n",
    "        self.assertEqual(len(note['^']), 0)\n",
    "        self.assertEqual(len(note['url']), 0)\n",
    "        \n",
    "    def test_D1SchoolsTop5Sports(self):\n",
    "        note = nf.sort_by_note(dicts, 'D1SchoolsTop5Sports.txt')\n",
    "        self.assertEqual(len(note['@']), 1)\n",
    "        self.assertEqual(len(note['#']), 2)\n",
    "        self.assertEqual(len(note['!']), 0)\n",
    "        self.assertEqual(len(note['^']), 0)\n",
    "        self.assertEqual(len(note['url']), 0)\n",
    "        \n",
    "    def test_data(self):\n",
    "        note = nf.sort_by_note(dicts, 'exceldata5.txt')\n",
    "        self.assertEqual(len(note['@']), 0)\n",
    "        self.assertEqual(len(note['#']), 0)\n",
    "        self.assertEqual(len(note['!']), 0)\n",
    "        self.assertEqual(len(note['^']), 0)\n",
    "        self.assertEqual(len(note['url']), 1)\n",
    "        \n",
    "    def test_git(self):\n",
    "        note = nf.sort_by_note(dicts, 'git_commands.txt')\n",
    "        self.assertEqual(len(note['@']), 0)\n",
    "        self.assertEqual(len(note['#']), 0)\n",
    "        self.assertEqual(len(note['!']), 1)\n",
    "        self.assertEqual(len(note['^']), 0)\n",
    "        self.assertEqual(len(note['url']), 6)\n",
    " \n",
    "    def test_basil(self):\n",
    "        note = nf.sort_by_note(dicts, 'growingBasil.txt')\n",
    "        self.assertEqual(len(note['@']), 0)\n",
    "        self.assertEqual(len(note['#']), 1)\n",
    "        self.assertEqual(len(note['!']), 0)\n",
    "        self.assertEqual(len(note['^']), 0)\n",
    "        self.assertEqual(len(note['url']), 0)\n",
    "        \n",
    "    def test_HowTO(self):\n",
    "        note = nf.sort_by_note(dicts, 'How-To-Use-A-Screwdriver')\n",
    "        self.assertEqual(len(note['@']), 0)\n",
    "        self.assertEqual(len(note['#']), 1)\n",
    "        self.assertEqual(len(note['!']), 0)\n",
    "        self.assertEqual(len(note['^']), 0)\n",
    "        self.assertEqual(len(note['url']), 0)\n",
    "        \n",
    "    def test_Moby(self):\n",
    "        note = nf.sort_by_note(dicts, 'MobyDick.txt')\n",
    "        self.assertEqual(len(note['@']), 0)\n",
    "        self.assertEqual(len(note['#']), 1)\n",
    "        self.assertEqual(len(note['!']), 0)\n",
    "        self.assertEqual(len(note['^']), 0)\n",
    "        self.assertEqual(len(note['url']), 0)\n",
    "\n",
    "    def test_pages(self):\n",
    "        note = nf.sort_by_note(dicts, 'pages79-84.txt')\n",
    "        self.assertEqual(len(note['@']), 0)\n",
    "        self.assertEqual(len(note['#']), 0)\n",
    "        self.assertEqual(len(note['!']), 0)\n",
    "        self.assertEqual(len(note['^']), 0)\n",
    "        self.assertEqual(len(note['url']), 0)\n",
    "        \n",
    "    def test_scone(self):\n",
    "        note = nf.sort_by_note(dicts, 'sconeRecipe.txt')\n",
    "        self.assertEqual(len(note['@']), 0)\n",
    "        self.assertEqual(len(note['#']), 0)\n",
    "        self.assertEqual(len(note['!']), 0)\n",
    "        self.assertEqual(len(note['^']), 1)\n",
    "        self.assertEqual(len(note['url']), 0)\n",
    "        \n",
    "    def test_starwars(self):\n",
    "        note = nf.sort_by_note(dicts, 'starwars9script.txt')\n",
    "        self.assertEqual(len(note['@']), 0)\n",
    "        self.assertEqual(len(note['#']), 0)\n",
    "        self.assertEqual(len(note['!']), 1)\n",
    "        self.assertEqual(len(note['^']), 0)\n",
    "        self.assertEqual(len(note['url']), 1)\n",
    "        \n",
    "    def test_starwars(self):\n",
    "        note = nf.sort_by_note(dicts, 'stepByStepGuide-lightingCandles.txt')\n",
    "        self.assertEqual(len(note['@']), 1)\n",
    "        self.assertEqual(len(note['#']), 1)\n",
    "        self.assertEqual(len(note['!']), 0)\n",
    "        self.assertEqual(len(note['^']), 0)\n",
    "        self.assertEqual(len(note['url']), 0)\n",
    "    \n",
    "    def test_sushi(self):\n",
    "        note = nf.sort_by_note(dicts, 'sushi-cookbook.txt')\n",
    "        self.assertEqual(len(note['@']), 0)\n",
    "        self.assertEqual(len(note['#']), 0)\n",
    "        self.assertEqual(len(note['!']), 0)\n",
    "        self.assertEqual(len(note['^']), 1)\n",
    "        self.assertEqual(len(note['url']), 0)\n",
    "        \n",
    "    def test_pope(self):\n",
    "        note = nf.sort_by_note(dicts, 'The-Popes-Tweets.txt')\n",
    "        self.assertEqual(len(note['@']), 20)\n",
    "        self.assertEqual(len(note['#']), 0)\n",
    "        self.assertEqual(len(note['!']), 0)\n",
    "        self.assertEqual(len(note['^']), 0)\n",
    "        self.assertEqual(len(note['url']), 0)\n",
    "   "
   ]
  },
  {
   "cell_type": "code",
   "execution_count": 12,
   "metadata": {
    "collapsed": false
   },
   "outputs": [
    {
     "name": "stderr",
     "output_type": "stream",
     "text": [
      ".............\n",
      "----------------------------------------------------------------------\n",
      "Ran 13 tests in 0.012s\n",
      "\n",
      "OK\n"
     ]
    }
   ],
   "source": [
    "if __name__ == '__main__':\n",
    "    ut.main(argv=['first-arg-is-ignored'], exit=False)"
   ]
  },
  {
   "cell_type": "code",
   "execution_count": null,
   "metadata": {
    "collapsed": true
   },
   "outputs": [],
   "source": []
  }
 ],
 "metadata": {
  "kernelspec": {
   "display_name": "Python 3",
   "language": "python",
   "name": "python3"
  },
  "language_info": {
   "codemirror_mode": {
    "name": "ipython",
    "version": 3
   },
   "file_extension": ".py",
   "mimetype": "text/x-python",
   "name": "python",
   "nbconvert_exporter": "python",
   "pygments_lexer": "ipython3",
   "version": "3.6.0"
  }
 },
 "nbformat": 4,
 "nbformat_minor": 2
}
