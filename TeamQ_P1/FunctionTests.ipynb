{
 "cells": [
  {
   "cell_type": "markdown",
   "metadata": {},
   "source": [
    "# Notebook for testing functions and methods \n",
    "### (not needed to run the core code)"
   ]
  },
  {
   "cell_type": "code",
   "execution_count": 285,
   "metadata": {
    "collapsed": true
   },
   "outputs": [],
   "source": [
    "import os\n",
    "import re\n",
    "from operator import itemgetter"
   ]
  },
  {
   "cell_type": "code",
   "execution_count": 2,
   "metadata": {
    "collapsed": true
   },
   "outputs": [],
   "source": [
    "def load_files(dir):                                                                                                  \n",
    "    print(\"Loading Files\")\n",
    "    r = []                                                                                                            \n",
    "    subdirs = [x[0] for x in os.walk(dir)]                                                                            \n",
    "    for subdir in subdirs:                                                                                            \n",
    "        files = os.walk(subdir).__next__()[2]                                                                             \n",
    "        if (len(files) > 0):                                                                                          \n",
    "            for file in files:                                                                                        \n",
    "                r.append(subdir + \"/\" + file)                                                                         \n",
    "    return r"
   ]
  },
  {
   "cell_type": "code",
   "execution_count": 296,
   "metadata": {
    "collapsed": true
   },
   "outputs": [],
   "source": [
    "import glob\n",
    "files = glob.glob(\"Notes/*.txt\")"
   ]
  },
  {
   "cell_type": "code",
   "execution_count": 297,
   "metadata": {
    "collapsed": false,
    "scrolled": true
   },
   "outputs": [
    {
     "name": "stdout",
     "output_type": "stream",
     "text": [
      "Loading Files\n",
      "['Notes/!test.txt', 'Notes/BUY-POST-IT-NOTES.txt', 'Notes/CookBook.txt', 'Notes/D1SchoolsTop5Sports.txt', 'Notes/exceldata5.txt', 'Notes/git_commands.txt', 'Notes/growingBasil.txt', 'Notes/How-To-Use-A-Screwdriver.txt', 'Notes/Long-URL-Test.txt', 'Notes/MobyDick.txt', 'Notes/pages79-84.txt', 'Notes/sconeRecipe.txt', 'Notes/starwars9script.txt', 'Notes/stepByStepGuide-lightingCandles.txt', 'Notes/sushi-cookbook.txt', 'Notes/Test-IDs.txt', 'Notes/test1.txt', 'Notes/test2.txt', 'Notes/test3.txt', 'Notes/The-Popes-Tweets.txt', 'Notes/topo.txt', 'Notes/topo1.txt', 'Notes/topo2.txt', 'Notes/topo3.txt', 'Notes/zDoesTOPOsortwork.txt', 'Notes/_DonaldDuck.txt'] 26\n"
     ]
    }
   ],
   "source": [
    "files = load_files('Notes') #calling function to read through root folder and sub folder\n",
    "print(files,len(files))"
   ]
  },
  {
   "cell_type": "code",
   "execution_count": 298,
   "metadata": {
    "collapsed": false,
    "scrolled": true
   },
   "outputs": [
    {
     "name": "stdout",
     "output_type": "stream",
     "text": [
      "!test\n",
      "\n",
      "testing is fun!\n"
     ]
    }
   ],
   "source": [
    "file = open(files[0])\n",
    "print(file.read())"
   ]
  },
  {
   "cell_type": "code",
   "execution_count": 105,
   "metadata": {
    "collapsed": false
   },
   "outputs": [],
   "source": [
    "def sort_notes(files,path):\n",
    "    used_id = []\n",
    "    print(\"Sorting Notes\")\n",
    "    all_files=[]\n",
    "    for f in range(len(files)):\n",
    "        #name = \"file\" + str(f)\n",
    "        file = open(files[f])\n",
    "        file_str = file.read()\n",
    "        file.close()\n",
    "        #print(files[f])\n",
    "        marks = re.findall(r'\\B[@#!^]\\w+', file_str)\n",
    "        urls = re.findall(r'(?:[a-zA-Z0-9]+(?:-[a-zA-Z0-9]+)*\\.)+[-a-zA-Z@:%_\\+~#?&//=]{2,256}',file_str)\n",
    "     \n",
    "        #print(marks,urls)\n",
    "        \n",
    "        file_marks = {'name':files[f][len(path)+1:],'@':[],'#':[],'!':[],'^':[],'url':[]}\n",
    "        for m in marks:\n",
    "            x = m in used_id\n",
    "            if (len(m) != 0 and x == False):\n",
    "                file_marks[m[0]].append(m)\n",
    "            if m[0] == \"!\":\n",
    "                    used_id.append(m)\n",
    "        for u in urls:\n",
    "            file_marks['url'].append(u)\n",
    "        all_files.append(file_marks)\n",
    "    return all_files"
   ]
  },
  {
   "cell_type": "code",
   "execution_count": 9,
   "metadata": {
    "collapsed": false
   },
   "outputs": [],
   "source": [
    "def sort_by_mark(dicts, mark):\n",
    "    files = []\n",
    "    for d in dicts:\n",
    "        #print(d[mark])\n",
    "        if (len(d[mark]) !=0):\n",
    "            sort = {'name':d['name'], 'marks':d[mark]}\n",
    "            files.append(sort)\n",
    "    return files"
   ]
  },
  {
   "cell_type": "code",
   "execution_count": null,
   "metadata": {
    "collapsed": true
   },
   "outputs": [],
   "source": []
  },
  {
   "cell_type": "code",
   "execution_count": 134,
   "metadata": {
    "collapsed": true
   },
   "outputs": [],
   "source": [
    "def sort_by_note(dicts,name):\n",
    "    for d in dicts:\n",
    "        if name in d['name']:\n",
    "            return d\n",
    "    else:\n",
    "        return \"file not found\""
   ]
  },
  {
   "cell_type": "code",
   "execution_count": 276,
   "metadata": {
    "collapsed": false
   },
   "outputs": [
    {
     "name": "stdout",
     "output_type": "stream",
     "text": [
      "Enter your filepath: Notes\n",
      "Loading Files\n",
      "Sorting Notes\n",
      "Notes Sorted\n"
     ]
    }
   ],
   "source": [
    "filepath = input('Enter your filepath: ')\n",
    "files = load_files(filepath)\n",
    "dicts = sort_notes(files,filepath)\n",
    "print(\"Notes Sorted\")\n",
    "\n"
   ]
  },
  {
   "cell_type": "code",
   "execution_count": 102,
   "metadata": {
    "collapsed": false
   },
   "outputs": [
    {
     "data": {
      "text/plain": [
       "{'!': [],\n",
       " '#': ['#Ramblers', '#sports'],\n",
       " '@': ['@LU'],\n",
       " '^': [],\n",
       " 'name': 'D1SchoolsTop5Sports.txt',\n",
       " 'url': []}"
      ]
     },
     "execution_count": 102,
     "metadata": {},
     "output_type": "execute_result"
    }
   ],
   "source": [
    "dicts[1]"
   ]
  },
  {
   "cell_type": "code",
   "execution_count": 63,
   "metadata": {
    "collapsed": false
   },
   "outputs": [
    {
     "name": "stdout",
     "output_type": "stream",
     "text": [
      "Notes/BUY-POST-IT-NOTES.txt\n",
      "Notes/D1SchoolsTop5Sports.txt\n",
      "Notes/exceldata5.txt\n",
      "Notes/git_commands.txt\n",
      "Notes/growingBasil.txt\n",
      "Notes/How-To-Use-A-Screwdriver.txt\n",
      "Notes/Long-URL-Test.txt\n",
      "Notes/MobyDick.txt\n",
      "Notes/pages79-84.txt\n",
      "Notes/sconeRecipe.txt\n",
      "Notes/starwars9script.txt\n",
      "Notes/stepByStepGuide-lightingCandles.txt\n",
      "Notes/sushi-cookbook.txt\n",
      "Notes/The-Popes-Tweets.txt\n",
      "Notes/_DonaldDuck.txt\n"
     ]
    }
   ],
   "source": [
    "for f in files:\n",
    "    print(f)"
   ]
  },
  {
   "cell_type": "code",
   "execution_count": 196,
   "metadata": {
    "collapsed": false
   },
   "outputs": [
    {
     "name": "stdout",
     "output_type": "stream",
     "text": [
      "[]\n",
      "[]\n",
      "[]\n",
      "[]\n",
      "[]\n",
      "[]\n",
      "[]\n",
      "[]\n",
      "[]\n",
      "[]\n",
      "['^recipe']\n",
      "[]\n",
      "[]\n",
      "['^recipe']\n",
      "[]\n",
      "[]\n",
      "[]\n"
     ]
    }
   ],
   "source": [
    "test = sort_by_mark(dicts,'^')"
   ]
  },
  {
   "cell_type": "code",
   "execution_count": 192,
   "metadata": {
    "collapsed": false
   },
   "outputs": [],
   "source": [
    "def file_names(files,path):\n",
    "    names = []\n",
    "    for f in files:\n",
    "        f = f[len(filepath)+1:]\n",
    "        names.append(f)\n",
    "    return names"
   ]
  },
  {
   "cell_type": "code",
   "execution_count": 71,
   "metadata": {
    "collapsed": false
   },
   "outputs": [],
   "source": [
    "names = file_names(files,filepath)"
   ]
  },
  {
   "cell_type": "code",
   "execution_count": 78,
   "metadata": {
    "collapsed": false
   },
   "outputs": [
    {
     "data": {
      "text/plain": [
       "['BUY-POST-IT-NOTES.txt',\n",
       " 'D1SchoolsTop5Sports.txt',\n",
       " 'exceldata5.txt',\n",
       " 'git_commands.txt',\n",
       " 'growingBasil.txt',\n",
       " 'How-To-Use-A-Screwdriver.txt',\n",
       " 'Long-URL-Test.txt',\n",
       " 'MobyDick.txt',\n",
       " 'pages79-84.txt',\n",
       " 'sconeRecipe.txt',\n",
       " 'starwars9script.txt',\n",
       " 'stepByStepGuide-lightingCandles.txt',\n",
       " 'sushi-cookbook.txt',\n",
       " 'The-Popes-Tweets.txt',\n",
       " '_DonaldDuck.txt']"
      ]
     },
     "execution_count": 78,
     "metadata": {},
     "output_type": "execute_result"
    }
   ],
   "source": [
    "names"
   ]
  },
  {
   "cell_type": "code",
   "execution_count": 191,
   "metadata": {
    "collapsed": false
   },
   "outputs": [],
   "source": [
    "def prnt_results_by_mark(results):\n",
    "    for r in results:\n",
    "        print ('File Name:', r['name'], '/ Marks:', *r['marks'], '/ Total:', len(r['marks']))"
   ]
  },
  {
   "cell_type": "code",
   "execution_count": 154,
   "metadata": {
    "collapsed": false
   },
   "outputs": [],
   "source": [
    "def prnt_results_by_note(results):\n",
    "    print ('File Name:', results['name'])\n",
    "    for k in results.keys():\n",
    "        if k != 'name':\n",
    "            print(k + ':' , *results[k] , '/ Total:', len(results[k]))"
   ]
  },
  {
   "cell_type": "code",
   "execution_count": 178,
   "metadata": {
    "collapsed": true
   },
   "outputs": [],
   "source": [
    "def prnt_results_by_word(results, word):\n",
    "    print('Files with your search:',word)\n",
    "    for r in results:\n",
    "        \n",
    "        print('File Name:', r['name'], '/ Total:', r[word[0]].count(word))"
   ]
  },
  {
   "cell_type": "code",
   "execution_count": 158,
   "metadata": {
    "collapsed": false
   },
   "outputs": [
    {
     "name": "stdout",
     "output_type": "stream",
     "text": [
      "File Name: BUY-POST-IT-NOTES.txt / Marks: #postItNotes / Total: 1\n",
      "File Name: D1SchoolsTop5Sports.txt / Marks: #Ramblers #sports / Total: 2\n",
      "File Name: growingBasil.txt / Marks: #sports / Total: 1\n",
      "File Name: How-To-Use-A-Screwdriver.txt / Marks: #howTo / Total: 1\n",
      "File Name: MobyDick.txt / Marks: #theWhale / Total: 1\n",
      "File Name: stepByStepGuide-lightingCandles.txt / Marks: #howTo / Total: 1\n"
     ]
    }
   ],
   "source": [
    "prnt_results_by_mark(test)"
   ]
  },
  {
   "cell_type": "code",
   "execution_count": 133,
   "metadata": {
    "collapsed": false
   },
   "outputs": [
    {
     "name": "stdout",
     "output_type": "stream",
     "text": [
      "a b c\n"
     ]
    }
   ],
   "source": [
    "myList = ['a','b','c']\n",
    "print(*myList)"
   ]
  },
  {
   "cell_type": "code",
   "execution_count": 150,
   "metadata": {
    "collapsed": false
   },
   "outputs": [],
   "source": [
    "test2 = sort_by_note(dicts, \"D1SchoolsTop5Sports.txt\")"
   ]
  },
  {
   "cell_type": "code",
   "execution_count": 151,
   "metadata": {
    "collapsed": false
   },
   "outputs": [
    {
     "name": "stdout",
     "output_type": "stream",
     "text": [
      "File Name: D1SchoolsTop5Sports.txt\n",
      "@: @LU / Total: 1\n",
      "#: #Ramblers #sports / Total: 2\n",
      "!: / Total: 0\n",
      "^: / Total: 0\n",
      "url: / Total: 0\n"
     ]
    }
   ],
   "source": [
    "prnt_results_by_note(test2)"
   ]
  },
  {
   "cell_type": "code",
   "execution_count": 159,
   "metadata": {
    "collapsed": true
   },
   "outputs": [],
   "source": [
    "def sort_by_word(dicts,mark,word):\n",
    "    words = []\n",
    "    for d in dicts:\n",
    "        if word in d[mark]:\n",
    "            words.append(d)\n",
    "    return words"
   ]
  },
  {
   "cell_type": "code",
   "execution_count": 179,
   "metadata": {
    "collapsed": false
   },
   "outputs": [],
   "source": [
    "test3 = sort_by_word(dicts,'@','@Pontifex')"
   ]
  },
  {
   "cell_type": "code",
   "execution_count": null,
   "metadata": {
    "collapsed": true
   },
   "outputs": [],
   "source": []
  },
  {
   "cell_type": "code",
   "execution_count": 180,
   "metadata": {
    "collapsed": false
   },
   "outputs": [
    {
     "name": "stdout",
     "output_type": "stream",
     "text": [
      "Files with your search: @Pontifex\n",
      "File Name: The-Popes-Tweets.txt / Total: 20\n"
     ]
    }
   ],
   "source": [
    "prnt_results_by_word(test3, '@Pontifex')"
   ]
  },
  {
   "cell_type": "code",
   "execution_count": 281,
   "metadata": {
    "collapsed": false
   },
   "outputs": [],
   "source": [
    "def sort_by_topic(dicts):\n",
    "    all_topics = []\n",
    "    roots = []\n",
    "    children = []\n",
    "    for d in dicts:\n",
    "        if (len(d['!']) !=0):\n",
    "            tup = (d['name'],d['!'])\n",
    "            roots.append(tup)\n",
    "        if (len(d['^']) !=0):\n",
    "            tup = (d['name'],d['^'])\n",
    "            children.append(tup)\n",
    "   \n",
    "    for r in roots:\n",
    "        graph = {'root': (), 'children':[], 'weight': 0}\n",
    "        for c in children:\n",
    "            word1 = c[1][0][1:]\n",
    "            word2 = r[1][0][1:]\n",
    "            if (word1[1:] == word2[1:]):\n",
    "                graph['root'] = r\n",
    "                graph['children'].append(c[0])\n",
    "                graph['weight'] += 1\n",
    "            else:\n",
    "                graph['root'] = r\n",
    "        all_topics.append(graph)\n",
    "    return all_topics"
   ]
  },
  {
   "cell_type": "code",
   "execution_count": 282,
   "metadata": {
    "collapsed": false
   },
   "outputs": [],
   "source": [
    "res = sort_by_topic(dicts)"
   ]
  },
  {
   "cell_type": "code",
   "execution_count": 283,
   "metadata": {
    "collapsed": false
   },
   "outputs": [
    {
     "data": {
      "text/plain": [
       "[{'children': ['test1.txt', 'test2.txt', 'test3.txt'],\n",
       "  'root': ('!test.txt', ['!test']),\n",
       "  'weight': 3},\n",
       " {'children': ['sconeRecipe.txt', 'sushi-cookbook.txt'],\n",
       "  'root': ('CookBook.txt', ['!recipe']),\n",
       "  'weight': 2},\n",
       " {'children': [], 'root': ('git_commands.txt', ['!git']), 'weight': 0},\n",
       " {'children': [], 'root': ('starwars9script.txt', ['!yoda']), 'weight': 0},\n",
       " {'children': ['topo.txt', 'topo1.txt', 'topo2.txt', 'topo3.txt'],\n",
       "  'root': ('zDoesTOPOsortwork.txt', ['!toposort']),\n",
       "  'weight': 4},\n",
       " {'children': [], 'root': ('_DonaldDuck.txt', ['!donald']), 'weight': 0}]"
      ]
     },
     "execution_count": 283,
     "metadata": {},
     "output_type": "execute_result"
    }
   ],
   "source": [
    "res"
   ]
  },
  {
   "cell_type": "code",
   "execution_count": 293,
   "metadata": {
    "collapsed": false
   },
   "outputs": [],
   "source": [
    "topo_sorted = sorted(res, key=lambda k: k['weight'], reverse=True) \n"
   ]
  },
  {
   "cell_type": "code",
   "execution_count": 292,
   "metadata": {
    "collapsed": false
   },
   "outputs": [],
   "source": [
    "def prnt_results_by_topic(results):\n",
    "    for r in results:\n",
    "        print(\"Topic:\", *r['root'][1], \"/ File:\",r['root'][0])\n",
    "        if (len(r['children']) !=0):\n",
    "            print('References:', *r['children'], \"/ Total:\", r['weight'])\n",
    "        else:\n",
    "            print('no refrences')\n",
    "        \n",
    "    \n",
    "            "
   ]
  },
  {
   "cell_type": "code",
   "execution_count": 294,
   "metadata": {
    "collapsed": false
   },
   "outputs": [
    {
     "name": "stdout",
     "output_type": "stream",
     "text": [
      "Topic: !toposort / File: zDoesTOPOsortwork.txt\n",
      "References: topo.txt topo1.txt topo2.txt topo3.txt / Total: 4\n",
      "Topic: !test / File: !test.txt\n",
      "References: test1.txt test2.txt test3.txt / Total: 3\n",
      "Topic: !recipe / File: CookBook.txt\n",
      "References: sconeRecipe.txt sushi-cookbook.txt / Total: 2\n",
      "Topic: !git / File: git_commands.txt\n",
      "no refrences\n",
      "Topic: !yoda / File: starwars9script.txt\n",
      "no refrences\n",
      "Topic: !donald / File: _DonaldDuck.txt\n",
      "no refrences\n"
     ]
    }
   ],
   "source": [
    "prnt_results_by_topic(topo_sorted)"
   ]
  }
 ],
 "metadata": {
  "kernelspec": {
   "display_name": "Python 3",
   "language": "python",
   "name": "python3"
  },
  "language_info": {
   "codemirror_mode": {
    "name": "ipython",
    "version": 3
   },
   "file_extension": ".py",
   "mimetype": "text/x-python",
   "name": "python",
   "nbconvert_exporter": "python",
   "pygments_lexer": "ipython3",
   "version": "3.6.0"
  }
 },
 "nbformat": 4,
 "nbformat_minor": 2
}
